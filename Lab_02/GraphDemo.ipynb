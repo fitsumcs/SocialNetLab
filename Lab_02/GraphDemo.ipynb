{
 "cells": [
  {
   "cell_type": "code",
   "execution_count": 1,
   "id": "7de4371c",
   "metadata": {},
   "outputs": [],
   "source": [
    "#Import the module \n",
    "import networkx as nx "
   ]
  },
  {
   "cell_type": "code",
   "execution_count": 2,
   "id": "20e0fa87",
   "metadata": {},
   "outputs": [],
   "source": [
    "#Create and empty Graph \n",
    "G = nx.Graph()"
   ]
  },
  {
   "cell_type": "code",
   "execution_count": 5,
   "id": "ddc83bf6",
   "metadata": {},
   "outputs": [],
   "source": [
    "# Add Node\n",
    "G.add_nodes_from([\"a\",\"b\",\"c\",\"d\",\"e\"])\n",
    "\n",
    "# Add Edge \n",
    "G.add_edges_from([(\"a\",\"b\"),(\"a\",\"e\"),(\"b\",\"c\"),(\"c\",\"e\"),(\"d\",\"e\")])"
   ]
  },
  {
   "cell_type": "code",
   "execution_count": 6,
   "id": "22489985",
   "metadata": {},
   "outputs": [
    {
     "name": "stdout",
     "output_type": "stream",
     "text": [
      "Name: \n",
      "Type: Graph\n",
      "Number of nodes: 5\n",
      "Number of edges: 5\n",
      "Average degree:   2.0000\n"
     ]
    }
   ],
   "source": [
    "#Get Graph Info \n",
    "print(nx.info(G))"
   ]
  },
  {
   "cell_type": "code",
   "execution_count": null,
   "id": "3b320d50",
   "metadata": {},
   "outputs": [],
   "source": []
  }
 ],
 "metadata": {
  "kernelspec": {
   "display_name": "Python 3",
   "language": "python",
   "name": "python3"
  },
  "language_info": {
   "codemirror_mode": {
    "name": "ipython",
    "version": 3
   },
   "file_extension": ".py",
   "mimetype": "text/x-python",
   "name": "python",
   "nbconvert_exporter": "python",
   "pygments_lexer": "ipython3",
   "version": "3.8.8"
  }
 },
 "nbformat": 4,
 "nbformat_minor": 5
}
