{
 "cells": [
  {
   "cell_type": "code",
   "execution_count": 1,
   "id": "e143a17d",
   "metadata": {},
   "outputs": [],
   "source": [
    "#Import the module \n",
    "import networkx as nx "
   ]
  },
  {
   "cell_type": "code",
   "execution_count": 2,
   "id": "a1fb41aa",
   "metadata": {},
   "outputs": [],
   "source": [
    "#Create and empty Graph \n",
    "G = nx.Graph()"
   ]
  },
  {
   "cell_type": "code",
   "execution_count": 5,
   "id": "21b1e1a5",
   "metadata": {},
   "outputs": [],
   "source": [
    "# Add Node\n",
    "G.add_nodes_from([\"a\",\"b\",\"c\",\"d\",\"e\"])\n",
    "\n",
    "# Add Edge \n",
    "G.add_edges_from([(\"a\",\"b\"),(\"a\",\"e\"),(\"b\",\"c\"),(\"c\",\"e\"),(\"d\",\"e\")])"
   ]
  },
  {
   "cell_type": "code",
   "execution_count": 6,
   "id": "4bff3bc5",
   "metadata": {},
   "outputs": [
    {
     "name": "stdout",
     "output_type": "stream",
     "text": [
      "Name: \n",
      "Type: Graph\n",
      "Number of nodes: 5\n",
      "Number of edges: 5\n",
      "Average degree:   2.0000\n"
     ]
    }
   ],
   "source": [
    "#Get Graph Info \n",
    "print(nx.info(G))"
   ]
  },
  {
   "cell_type": "code",
   "execution_count": 8,
   "id": "e8240846",
   "metadata": {},
   "outputs": [
    {
     "name": "stdout",
     "output_type": "stream",
     "text": [
      "Number of Nodes :  5\n",
      "Number of Edges :  5\n"
     ]
    }
   ],
   "source": [
    "#Getting Graph Info [Edge, Node]\n",
    "print(\"Number of Nodes : \", G.number_of_nodes())\n",
    "print(\"Number of Edges : \", G.number_of_edges())"
   ]
  },
  {
   "cell_type": "code",
   "execution_count": 9,
   "id": "0f0c4f71",
   "metadata": {},
   "outputs": [
    {
     "name": "stdout",
     "output_type": "stream",
     "text": [
      "Degree\n",
      "[('a', 2), ('b', 2), ('c', 2), ('d', 1), ('e', 3)]\n"
     ]
    }
   ],
   "source": [
    "#Graph Anlysis \n",
    "print(\"Degree\")\n",
    "print(nx.degree(G))"
   ]
  },
  {
   "cell_type": "code",
   "execution_count": null,
   "id": "c71f274e",
   "metadata": {},
   "outputs": [],
   "source": [
    "#Diameter and shortest distance \n",
    "print"
   ]
  }
 ],
 "metadata": {
  "kernelspec": {
   "display_name": "Python 3",
   "language": "python",
   "name": "python3"
  },
  "language_info": {
   "codemirror_mode": {
    "name": "ipython",
    "version": 3
   },
   "file_extension": ".py",
   "mimetype": "text/x-python",
   "name": "python",
   "nbconvert_exporter": "python",
   "pygments_lexer": "ipython3",
   "version": "3.8.8"
  }
 },
 "nbformat": 4,
 "nbformat_minor": 5
}
