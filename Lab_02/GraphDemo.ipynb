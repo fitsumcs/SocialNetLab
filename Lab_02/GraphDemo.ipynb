{
 "cells": [
  {
   "cell_type": "code",
   "execution_count": 1,
   "id": "3d5f98b9",
   "metadata": {},
   "outputs": [],
   "source": [
    "#Import the module \n",
    "import networkx as nx "
   ]
  },
  {
   "cell_type": "code",
   "execution_count": 2,
   "id": "a81dae00",
   "metadata": {},
   "outputs": [],
   "source": [
    "#Create and empty Graph \n",
    "G = nx.Graph()"
   ]
  },
  {
   "cell_type": "code",
   "execution_count": 5,
   "id": "aa815e5c",
   "metadata": {},
   "outputs": [],
   "source": [
    "# Add Node\n",
    "G.add_nodes_from([\"a\",\"b\",\"c\",\"d\",\"e\"])\n",
    "\n",
    "# Add Edge \n",
    "G.add_edges_from([(\"a\",\"b\"),(\"a\",\"e\"),(\"b\",\"c\"),(\"c\",\"e\"),(\"d\",\"e\")])"
   ]
  },
  {
   "cell_type": "code",
   "execution_count": 6,
   "id": "5f00c001",
   "metadata": {},
   "outputs": [
    {
     "name": "stdout",
     "output_type": "stream",
     "text": [
      "Name: \n",
      "Type: Graph\n",
      "Number of nodes: 5\n",
      "Number of edges: 5\n",
      "Average degree:   2.0000\n"
     ]
    }
   ],
   "source": [
    "#Get Graph Info \n",
    "print(nx.info(G))"
   ]
  },
  {
   "cell_type": "code",
   "execution_count": 8,
   "id": "16d1d6eb",
   "metadata": {},
   "outputs": [
    {
     "name": "stdout",
     "output_type": "stream",
     "text": [
      "Number of Nodes :  5\n",
      "Number of Edges :  5\n"
     ]
    }
   ],
   "source": [
    "#Getting Graph Info [Edge, Node]\n",
    "print(\"Number of Nodes : \", G.number_of_nodes())\n",
    "print(\"Number of Edges : \", G.number_of_edges())"
   ]
  },
  {
   "cell_type": "code",
   "execution_count": 9,
   "id": "6916ed86",
   "metadata": {},
   "outputs": [
    {
     "name": "stdout",
     "output_type": "stream",
     "text": [
      "Degree\n",
      "[('a', 2), ('b', 2), ('c', 2), ('d', 1), ('e', 3)]\n"
     ]
    }
   ],
   "source": [
    "#Graph Anlysis \n",
    "print(\"Degree\")\n",
    "print(nx.degree(G))"
   ]
  },
  {
   "cell_type": "code",
   "execution_count": 11,
   "id": "a8d08b67",
   "metadata": {},
   "outputs": [
    {
     "name": "stdout",
     "output_type": "stream",
     "text": [
      "Shortest path from a to , d\n",
      "['a', 'e', 'd']\n",
      "The diameter of the Graph :  3\n"
     ]
    }
   ],
   "source": [
    "#Diameter and shortest distance \n",
    "print(\"Shortest path from a to , d\")\n",
    "print(nx.shortest_path(G,\"a\",\"d\"))\n",
    "\n",
    "print(\"The diameter of the Graph : \" , nx.diameter(G))"
   ]
  },
  {
   "cell_type": "code",
   "execution_count": 12,
   "id": "a0aec8ef",
   "metadata": {},
   "outputs": [
    {
     "name": "stdout",
     "output_type": "stream",
     "text": [
      "2.0\n",
      "0.5\n"
     ]
    }
   ],
   "source": [
    "#Average Distance and Connectedness \n",
    "#Average \n",
    "average = 2*G.number_of_edges()/G.number_of_nodes()\n",
    "print(\"Average Distance : \", average)\n",
    "#Conectedness\n",
    "print(\"Connectedness : \", average/(G.number_of_nodes()-1))"
   ]
  },
  {
   "cell_type": "code",
   "execution_count": null,
   "id": "283eaeb3",
   "metadata": {},
   "outputs": [],
   "source": []
  }
 ],
 "metadata": {
  "kernelspec": {
   "display_name": "Python 3",
   "language": "python",
   "name": "python3"
  },
  "language_info": {
   "codemirror_mode": {
    "name": "ipython",
    "version": 3
   },
   "file_extension": ".py",
   "mimetype": "text/x-python",
   "name": "python",
   "nbconvert_exporter": "python",
   "pygments_lexer": "ipython3",
   "version": "3.8.8"
  }
 },
 "nbformat": 4,
 "nbformat_minor": 5
}
